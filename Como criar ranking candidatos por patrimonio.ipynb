{
 "cells": [
  {
   "cell_type": "markdown",
   "metadata": {},
   "source": [
    "# Importando Biblioteca e Dados"
   ]
  },
  {
   "cell_type": "code",
   "execution_count": 1,
   "metadata": {},
   "outputs": [],
   "source": [
    "import pandas as pd\n",
    "import numpy as np"
   ]
  },
  {
   "cell_type": "code",
   "execution_count": 314,
   "metadata": {},
   "outputs": [],
   "source": [
    "candidatos = pd.read_csv('dados/consulta_cand_2020_SP.csv', sep =';', encoding='latin-1')\n",
    "bens = pd.read_csv('dados/bem_candidato_2020_SP.csv',  sep =';', encoding='latin-1')"
   ]
  },
  {
   "cell_type": "markdown",
   "metadata": {},
   "source": [
    "# Limpando os Dados"
   ]
  },
  {
   "cell_type": "markdown",
   "metadata": {},
   "source": [
    "## Dados da tabela de candidatos"
   ]
  },
  {
   "cell_type": "code",
   "execution_count": 315,
   "metadata": {},
   "outputs": [],
   "source": [
    "# Aqui você deve inserir o nome da cidade (ou cidades) desejada. O nome precisa estar em caixa alta e com acento\n",
    "# Em caso de mais de uma cidade, basta adicionar \"|\" (que significa \"ou\") e adicionar as outras cidades\n",
    "candidatos_cidade = candidatos.query('NM_UE == \"CIDADE1\" | `NM_UE` == \"CIDADE2\"')"
   ]
  },
  {
   "cell_type": "code",
   "execution_count": 316,
   "metadata": {},
   "outputs": [],
   "source": [
    "# Vamos começar a remover os candidatos que já não participam da disputa e foram considerados Inaptos pelo TSE\n",
    "# Escolhi retirar os inaptos ao invés de aceitar apenas os aptos pois o TSE pode ainda estar julgando alguma candidatura e não há sentido em eliminá-la do dataset ainda\n",
    "candidatos_aptos = candidatos_cidade.query('DS_SITUACAO_CANDIDATURA != \"INAPTO\"')"
   ]
  },
  {
   "cell_type": "code",
   "execution_count": 317,
   "metadata": {},
   "outputs": [
    {
     "name": "stderr",
     "output_type": "stream",
     "text": [
      "C:\\Users\\felip\\anaconda3\\lib\\site-packages\\ipykernel_launcher.py:5: SettingWithCopyWarning: \n",
      "A value is trying to be set on a copy of a slice from a DataFrame.\n",
      "Try using .loc[row_indexer,col_indexer] = value instead\n",
      "\n",
      "See the caveats in the documentation: https://pandas.pydata.org/pandas-docs/stable/user_guide/indexing.html#returning-a-view-versus-a-copy\n",
      "  \"\"\"\n",
      "C:\\Users\\felip\\anaconda3\\lib\\site-packages\\ipykernel_launcher.py:6: SettingWithCopyWarning: \n",
      "A value is trying to be set on a copy of a slice from a DataFrame\n",
      "\n",
      "See the caveats in the documentation: https://pandas.pydata.org/pandas-docs/stable/user_guide/indexing.html#returning-a-view-versus-a-copy\n",
      "  \n"
     ]
    }
   ],
   "source": [
    "# Alguns candidatos são cadastrados duas vezes, por algum erro. Esse comando elimina os candidatos com mesmo CPF.\n",
    "# É melhor se basear pelo CPF do que pelo nome, pois duas pessoas diferentes podem ter o mesmo nome\n",
    "# Primeiro temos que transformar o CPF em texto, pois o programa entende que ele é um número. Ou seja, ele pode passar por uma operação matemática.\n",
    "# Como sabemos que o CPF é um número fixo, inalterável, vamos avisar o programa para mante-lo assim\n",
    "candidatos_aptos['NR_CPF_CANDIDATO'] = candidatos_aptos['NR_CPF_CANDIDATO'].astype(str)\n",
    "candidatos_aptos.drop_duplicates(subset = 'NR_CPF_CANDIDATO',keep = 'last', inplace = True)"
   ]
  },
  {
   "cell_type": "markdown",
   "metadata": {},
   "source": [
    "## Dados da tabela de patrimônio"
   ]
  },
  {
   "cell_type": "code",
   "execution_count": 318,
   "metadata": {},
   "outputs": [],
   "source": [
    "# Primeiro é preciso transformar o SQ, o código de identificação do candidato, em string, assim como foi feito com o CPF\n",
    "bens['SQ_CANDIDATO'] = bens['SQ_CANDIDATO'].astype(str)"
   ]
  },
  {
   "cell_type": "code",
   "execution_count": 319,
   "metadata": {},
   "outputs": [],
   "source": [
    "# Alguns valores de bens da tabela estão negativos. Para lidar com isso aproveitei que os valores dos bens estão como string e substitui o caractere \"-\" por nada\n",
    "bens[\"VR_BEM_CANDIDATO\"] = [x.replace(\"-\", \"\") for x in bens[\"VR_BEM_CANDIDATO\"]]"
   ]
  },
  {
   "cell_type": "code",
   "execution_count": 320,
   "metadata": {},
   "outputs": [],
   "source": [
    "# Agora vamos lidar com as entradas repetidas, ou seja, linhas que estão duplicadas. Para isso criei uma nova viarável de conferência\n",
    "bens['REPETIDO']=bens.SQ_CANDIDATO+bens.DS_BEM_CANDIDATO+bens.VR_BEM_CANDIDATO\n",
    "# A partir dessa variável é possível tirar as linhas que apresentam a mesma informação sobre: Candidato, Descrição do Bem, Valor do Bem\n",
    "bens.drop_duplicates(subset = \"REPETIDO\", keep = 'last', inplace = True)"
   ]
  },
  {
   "cell_type": "code",
   "execution_count": 321,
   "metadata": {},
   "outputs": [],
   "source": [
    "# Os dados de valor do bem estão em formato string (ou seja, texto), e estão separados por virgula (e o programa usa o separado \".\")\n",
    "# Nesse primeiro passo vamos transformar a vírgula em ponto e em seguida transformar em número, para o programa poder fazer a soma mais a frente\n",
    "bens[\"VR_BEM_CANDIDATO\"] = [x.replace(\",\", \".\") for x in bens[\"VR_BEM_CANDIDATO\"]]\n",
    "bens['VR_BEM_CANDIDATO'] = bens['VR_BEM_CANDIDATO'].astype(float)"
   ]
  },
  {
   "cell_type": "code",
   "execution_count": 322,
   "metadata": {},
   "outputs": [],
   "source": [
    "# Como fizemos com os candidatos, vamos separar somente as cidades desejadas\n",
    "bens_cidade = bens.query('NM_UE == \"CIDADE1\" | `NM_UE` == \"CIDADE2\"')"
   ]
  },
  {
   "cell_type": "markdown",
   "metadata": {},
   "source": [
    "# Criando uma nova tabela"
   ]
  },
  {
   "cell_type": "code",
   "execution_count": 323,
   "metadata": {},
   "outputs": [],
   "source": [
    "# Com os dados da tabela de bens limpos, podemos fazer a soma desses bens, para obter o patrimônio total\n",
    "bens_somados = bens_cidade.groupby('SQ_CANDIDATO').agg({ 'VR_BEM_CANDIDATO' : sum})\n",
    "bens_somados.reset_index(level=0, inplace=True)"
   ]
  },
  {
   "cell_type": "code",
   "execution_count": 324,
   "metadata": {},
   "outputs": [],
   "source": [
    "# Criei uma tabela com apenas alguns dados da tabela de candidatos\n",
    "# Neste caso selecionei: Nome, Nome na Urna, Partido, Cidade, Cargo, Ocupação, Genêro e Raça\n",
    "candidatos_aptos = candidatos_aptos[['SQ_CANDIDATO', \n",
    "                                     'NM_CANDIDATO', \n",
    "                                     'NM_URNA_CANDIDATO',\n",
    "                                     'NM_UE',\n",
    "                                     'SG_PARTIDO', \n",
    "                                     'DS_CARGO', \n",
    "                                     'DS_OCUPACAO', \n",
    "                                     'DS_GENERO', \n",
    "                                     'DS_COR_RACA']]"
   ]
  },
  {
   "cell_type": "code",
   "execution_count": 325,
   "metadata": {},
   "outputs": [],
   "source": [
    "candidatos_aptos['SQ_CANDIDATO'] = candidatos_aptos['SQ_CANDIDATO'].astype(str)"
   ]
  },
  {
   "cell_type": "code",
   "execution_count": 326,
   "metadata": {},
   "outputs": [],
   "source": [
    "# Uni as tabelas através do SQ\n",
    "dataset = candidatos_aptos.set_index('SQ_CANDIDATO').join(bens_somados.set_index('SQ_CANDIDATO'))"
   ]
  },
  {
   "cell_type": "code",
   "execution_count": 327,
   "metadata": {},
   "outputs": [],
   "source": [
    "# Preenchendo com 0 os valores nulos\n",
    "dataset['VR_BEM_CANDIDATO'].fillna(0, inplace = True)"
   ]
  },
  {
   "cell_type": "code",
   "execution_count": 328,
   "metadata": {},
   "outputs": [],
   "source": [
    "# renomeando as colunas\n",
    "dataset.rename(columns= {'NM_CANDIDATO' : 'CANDIDATO',\n",
    "                         'NM_URNA_CANDIDATO' : 'NOME_URNA', \n",
    "                         'NM_UE' : 'MUNICIPIO',\n",
    "                         'SG_PARTIDO' : 'PARTIDO', \n",
    "                         'DS_CARGO' : 'CARGO', \n",
    "                         'DS_OCUPACAO' : 'OCUPACAO',  \n",
    "                         'DS_GENERO' : 'GENERO', \n",
    "                         'DS_COR_RACA' : 'COR',  \n",
    "                         'VR_BEM_CANDIDATO' : 'VALOR_PATRIMONIO'},\n",
    "              inplace = True)"
   ]
  },
  {
   "cell_type": "code",
   "execution_count": 329,
   "metadata": {},
   "outputs": [],
   "source": [
    "dataset.sort_values(by= \"VALOR_PATRIMONIO\", ascending = False, inplace = True)"
   ]
  },
  {
   "cell_type": "code",
   "execution_count": 330,
   "metadata": {},
   "outputs": [],
   "source": [
    "dataset.reset_index(inplace = True)"
   ]
  },
  {
   "cell_type": "code",
   "execution_count": 331,
   "metadata": {},
   "outputs": [],
   "source": [
    "dataset.drop(axis = 'columns', labels = 'SQ_CANDIDATO', inplace=True)"
   ]
  },
  {
   "cell_type": "code",
   "execution_count": 334,
   "metadata": {},
   "outputs": [],
   "source": [
    "dataset = round(dataset,2)"
   ]
  },
  {
   "cell_type": "markdown",
   "metadata": {},
   "source": [
    "# Exportando para uma nova tabela"
   ]
  },
  {
   "cell_type": "code",
   "execution_count": 338,
   "metadata": {},
   "outputs": [],
   "source": [
    "dataset.to_csv('dados/ranking_patrimonio_candidatos.csv', sep =';', encoding='utf-8', index = False)"
   ]
  },
  {
   "cell_type": "code",
   "execution_count": null,
   "metadata": {},
   "outputs": [],
   "source": []
  }
 ],
 "metadata": {
  "kernelspec": {
   "display_name": "Python 3",
   "language": "python",
   "name": "python3"
  },
  "language_info": {
   "codemirror_mode": {
    "name": "ipython",
    "version": 3
   },
   "file_extension": ".py",
   "mimetype": "text/x-python",
   "name": "python",
   "nbconvert_exporter": "python",
   "pygments_lexer": "ipython3",
   "version": "3.7.6"
  }
 },
 "nbformat": 4,
 "nbformat_minor": 4
}
